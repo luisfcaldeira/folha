{
 "cells": [
  {
   "cell_type": "code",
   "execution_count": 1,
   "metadata": {},
   "outputs": [],
   "source": [
    "# uncomment bellow to install dependences\n",
    "\n",
    "# !pip install portalocker>=2.0.0\n",
    "# !pip install scikit-plot\n",
    "# !pip install scipy==1.11.4\n",
    "# !pip install lime\n",
    "# !pip install torchtext"
   ]
  },
  {
   "cell_type": "code",
   "execution_count": 2,
   "metadata": {},
   "outputs": [],
   "source": [
    "import torchtext\n",
    "import torch"
   ]
  },
  {
   "cell_type": "code",
   "execution_count": 3,
   "metadata": {},
   "outputs": [
    {
     "data": {
      "text/plain": [
       "'2.2.1+cu118'"
      ]
     },
     "execution_count": 3,
     "metadata": {},
     "output_type": "execute_result"
    }
   ],
   "source": [
    "torch.__version__"
   ]
  },
  {
   "cell_type": "code",
   "execution_count": 4,
   "metadata": {},
   "outputs": [],
   "source": [
    "import pandas as pd"
   ]
  },
  {
   "cell_type": "code",
   "execution_count": 5,
   "metadata": {},
   "outputs": [],
   "source": [
    "df = pd.read_csv(\"FolhaArticles.csv\", sep='\\t')"
   ]
  },
  {
   "cell_type": "code",
   "execution_count": 6,
   "metadata": {},
   "outputs": [
    {
     "data": {
      "text/html": [
       "<div>\n",
       "<style scoped>\n",
       "    .dataframe tbody tr th:only-of-type {\n",
       "        vertical-align: middle;\n",
       "    }\n",
       "\n",
       "    .dataframe tbody tr th {\n",
       "        vertical-align: top;\n",
       "    }\n",
       "\n",
       "    .dataframe thead th {\n",
       "        text-align: right;\n",
       "    }\n",
       "</style>\n",
       "<table border=\"1\" class=\"dataframe\">\n",
       "  <thead>\n",
       "    <tr style=\"text-align: right;\">\n",
       "      <th></th>\n",
       "      <th>Title</th>\n",
       "      <th>Content</th>\n",
       "      <th>Url</th>\n",
       "      <th>Published</th>\n",
       "      <th>categories</th>\n",
       "    </tr>\n",
       "  </thead>\n",
       "  <tbody>\n",
       "    <tr>\n",
       "      <th>0</th>\n",
       "      <td>Visões da batalha na Rússia e no Ocidente são ...</td>\n",
       "      <td>Quatro décadas de Guerra Fria e o renovado con...</td>\n",
       "      <td>https://www1.folha.uol.com.br/mundo/2019/06/vi...</td>\n",
       "      <td>2019-06-06 02:00:00.0000000</td>\n",
       "      <td>mundo</td>\n",
       "    </tr>\n",
       "    <tr>\n",
       "      <th>1</th>\n",
       "      <td>Bolsonaro é intimado pela PF sobre golpe e pod...</td>\n",
       "      <td>A Polícia Federal intimou Jair Bolsonaro (PL) ...</td>\n",
       "      <td>https://www1.folha.uol.com.br/poder/2024/02/pf...</td>\n",
       "      <td>2024-02-19 12:45:00.0000000</td>\n",
       "      <td>poder</td>\n",
       "    </tr>\n",
       "    <tr>\n",
       "      <th>2</th>\n",
       "      <td>Hayao Miyazaki passa a vida a limpo em O Menin...</td>\n",
       "      <td>Como vocês vivem? A pergunta parece ser feita ...</td>\n",
       "      <td>https://www1.folha.uol.com.br/ilustrada/2024/0...</td>\n",
       "      <td>2024-02-19 07:00:00.0000000</td>\n",
       "      <td>ilustrada</td>\n",
       "    </tr>\n",
       "    <tr>\n",
       "      <th>3</th>\n",
       "      <td>Série produzida pelo Estúdio Folha ganha Prêmi...</td>\n",
       "      <td>A série \"Caminhos Proibidos\", produzida pelo E...</td>\n",
       "      <td>https://estudio.folha.uol.com.br/estudio/2024/...</td>\n",
       "      <td>2024-01-18 16:49:00.0000000</td>\n",
       "      <td>estudio</td>\n",
       "    </tr>\n",
       "    <tr>\n",
       "      <th>4</th>\n",
       "      <td>Como é 'Crystal', do Cirque du Soleil, que vem...</td>\n",
       "      <td>Uma mulher expressa sua angústia dançando sobr...</td>\n",
       "      <td>https://www1.folha.uol.com.br/ilustrada/2024/0...</td>\n",
       "      <td>2024-02-19 15:15:00.0000000</td>\n",
       "      <td>ilustrada</td>\n",
       "    </tr>\n",
       "  </tbody>\n",
       "</table>\n",
       "</div>"
      ],
      "text/plain": [
       "                                               Title  \\\n",
       "0  Visões da batalha na Rússia e no Ocidente são ...   \n",
       "1  Bolsonaro é intimado pela PF sobre golpe e pod...   \n",
       "2  Hayao Miyazaki passa a vida a limpo em O Menin...   \n",
       "3  Série produzida pelo Estúdio Folha ganha Prêmi...   \n",
       "4  Como é 'Crystal', do Cirque du Soleil, que vem...   \n",
       "\n",
       "                                             Content  \\\n",
       "0  Quatro décadas de Guerra Fria e o renovado con...   \n",
       "1  A Polícia Federal intimou Jair Bolsonaro (PL) ...   \n",
       "2  Como vocês vivem? A pergunta parece ser feita ...   \n",
       "3  A série \"Caminhos Proibidos\", produzida pelo E...   \n",
       "4  Uma mulher expressa sua angústia dançando sobr...   \n",
       "\n",
       "                                                 Url  \\\n",
       "0  https://www1.folha.uol.com.br/mundo/2019/06/vi...   \n",
       "1  https://www1.folha.uol.com.br/poder/2024/02/pf...   \n",
       "2  https://www1.folha.uol.com.br/ilustrada/2024/0...   \n",
       "3  https://estudio.folha.uol.com.br/estudio/2024/...   \n",
       "4  https://www1.folha.uol.com.br/ilustrada/2024/0...   \n",
       "\n",
       "                     Published categories  \n",
       "0  2019-06-06 02:00:00.0000000      mundo  \n",
       "1  2024-02-19 12:45:00.0000000      poder  \n",
       "2  2024-02-19 07:00:00.0000000  ilustrada  \n",
       "3  2024-01-18 16:49:00.0000000    estudio  \n",
       "4  2024-02-19 15:15:00.0000000  ilustrada  "
      ]
     },
     "execution_count": 6,
     "metadata": {},
     "output_type": "execute_result"
    }
   ],
   "source": [
    "df.head()"
   ]
  },
  {
   "cell_type": "code",
   "execution_count": 7,
   "metadata": {},
   "outputs": [],
   "source": [
    "df.dropna(inplace=True)"
   ]
  },
  {
   "cell_type": "code",
   "execution_count": 8,
   "metadata": {},
   "outputs": [],
   "source": [
    "categories = [ 'celebridades', 'ciencia', 'cinema', 'comida', 'educacao', 'eleicoes', 'esporte', 'mercado', 'poder']\n",
    "df = df[df['categories'].isin(categories)]"
   ]
  },
  {
   "cell_type": "code",
   "execution_count": 9,
   "metadata": {},
   "outputs": [],
   "source": [
    "df['Category'] = [categories.index(x) for x in df.categories]"
   ]
  },
  {
   "cell_type": "code",
   "execution_count": 10,
   "metadata": {},
   "outputs": [
    {
     "data": {
      "text/plain": [
       "(64400, 2)"
      ]
     },
     "execution_count": 10,
     "metadata": {},
     "output_type": "execute_result"
    }
   ],
   "source": [
    "df[['Category', 'Content']].shape"
   ]
  },
  {
   "cell_type": "code",
   "execution_count": 11,
   "metadata": {},
   "outputs": [],
   "source": [
    "df_train = df[['Category', 'Content']][:54000]\n",
    "df_test = df[['Category', 'Content']][54000:]"
   ]
  },
  {
   "cell_type": "code",
   "execution_count": 12,
   "metadata": {},
   "outputs": [
    {
     "data": {
      "text/plain": [
       "((54000, 2), (10400, 2))"
      ]
     },
     "execution_count": 12,
     "metadata": {},
     "output_type": "execute_result"
    }
   ],
   "source": [
    "df_train.shape, df_test.shape"
   ]
  },
  {
   "cell_type": "code",
   "execution_count": 13,
   "metadata": {},
   "outputs": [],
   "source": [
    "df_train = df_train.values.tolist()\n",
    "df_test = df_test.values.tolist()"
   ]
  },
  {
   "cell_type": "code",
   "execution_count": 14,
   "metadata": {},
   "outputs": [],
   "source": [
    "from torchtext.data import get_tokenizer\n",
    "from torchtext.vocab import build_vocab_from_iterator\n",
    "\n",
    "tokenizer = get_tokenizer(\"basic_english\")\n",
    "\n",
    "def build_vocab(datasets):\n",
    "    for dataset in datasets:\n",
    "        for _, text in dataset:\n",
    "            yield tokenizer(text)\n",
    "\n",
    "vocab = build_vocab_from_iterator(build_vocab([df_train, df_test]), specials=[\"<UNK>\"])\n",
    "vocab.set_default_index(vocab[\"<UNK>\"])"
   ]
  },
  {
   "cell_type": "code",
   "execution_count": 15,
   "metadata": {},
   "outputs": [
    {
     "data": {
      "text/plain": [
       "352993"
      ]
     },
     "execution_count": 15,
     "metadata": {},
     "output_type": "execute_result"
    }
   ],
   "source": [
    "len(vocab.get_itos())"
   ]
  },
  {
   "cell_type": "code",
   "execution_count": 16,
   "metadata": {},
   "outputs": [],
   "source": [
    "from sklearn.feature_extraction.text import TfidfVectorizer, CountVectorizer\n",
    "vectorizer = CountVectorizer(vocabulary=vocab.get_itos(), tokenizer=tokenizer)\n",
    "def vectorize_batch(batch):\n",
    "    Y, X = list(zip(*batch)) # agrupa labels em uma tupla e textos em outra tupla (exemplo abaixo)\n",
    "    X = vectorizer.transform(X).todense()\n",
    "    return torch.tensor(X, dtype=torch.float32).cuda(), torch.tensor(Y).cuda()\n"
   ]
  },
  {
   "cell_type": "code",
   "execution_count": 17,
   "metadata": {},
   "outputs": [],
   "source": [
    "\n",
    "from torch.utils.data import DataLoader\n",
    "from torchtext.data.functional import to_map_style_dataset\n",
    "\n",
    "train_loader = DataLoader(df_train, batch_size=256, collate_fn=vectorize_batch)\n",
    "test_loader  = DataLoader(df_test, batch_size=256, collate_fn=vectorize_batch)"
   ]
  },
  {
   "cell_type": "code",
   "execution_count": 18,
   "metadata": {},
   "outputs": [
    {
     "data": {
      "text/plain": [
       "[7,\n",
       " 'Além da experiência e da maturidade, uma das vantagens de se chegar aos 50 anos é que, normalmente, a pessoa conseguiu acumular algum patrimônio ao longo da vida. Esse é um fator importante para quem chegou a essa idade e nunca se planejou para a aposentadoria.  Começar a pensar na previdência nessa idade demanda alguns sacrifícios a mais e muita organização. A pessoa precisa rever todos os seus gastos para encontrar um espaço para poupar dinheiro.  Calcule o que falta para sua independência financeiraFerramenta exclusiva da Folha permite estimar poupança necessáriaÉ preciso ter em mente que não tem como recuperar o tempo que passou. Então, os aportes mensais para essa finalidade terão de ser maiores nessa fase da vida, se o indivíduo quiser manter o padrão de vida que tinha antes de parar de trabalhar.  Falando nisso, o analista de renda fixa André Alírio, da Nova Futura Investimentos, lembra que a realidade do Brasil não comporta mais que as pessoas parem de trabalhar tão cedo.  Hoje a expectativa de vida dos brasileiros é maior, de 77 anos, segundo o último levantamento do IBGE (Instituto Brasileiro de Geografia e Estatística). Esse fator somado à saturação do sistema previdenciário brasileiro faz com que o Estado demande que os cidadãos se mantenham economicamente ativos por mais tempo.  A última reforma da previdência impôs um tempo maior de contribuição para quem quer se aposentar com o teto do INSS (Instituto Nacional do Seguro Social), de R$ 7.507,49 por mês. Segundo especialistas, daqui a dez anos o Brasil deve passar por novas mudanças no sistema previdenciário.  \"Talvez exijam que nós cheguemos próximos dos 70 anos ativos ainda, por isso é preciso se manter profissionalmente atualizado para continuar trabalhando e gerando aquilo que o país precisa\", diz Alírio.  Continuar ativo aos 50 anos, portanto, faz parte do planejamento da aposentadoria. Mas é preciso ter em mente que, se a pessoa não fizer mais nada, ela pode se aposentar com um padrão de vida muito abaixo do que tem agora.  Aos 50 anos, é hora de rever todos os gastos, reorganizar a vida e otimizar o patrimônio acumulado para a aposentadoria  - Catarina PignatoConfiracarteiras recomendadasprós e contras da faixa etáriaGlossárioAlém de rever os gastos e começar a poupar de verdade, a analista de Alocação e Fundos da XP Clara Sodré orienta as pessoas dessa idade a começarem a analisar os seus bens, tanto os imobilizados —casas e apartamentos, por exemplo—, como os mobilizados, seja carros, dinheiro acumulado em conta bancária ou aplicações financeiras.  Às vezes, será mais vantajoso para o futuro que o indivíduo se desfaça de um imóvel ou carro que estejam parados e aplique esse dinheiro, ou então coloque a casa ou apartamento para alugar.  Com relação ao dinheiro acumulado, a pessoa deve protegê-lo ao máximo, fugindo de investimentos mais arriscados, embora estes muitas vezes tragam um retorno maior. Isso porque o investidor tem menos tempo para recuperar o que perdeu com aplicações mais arriscadas do que um indivíduo mais jovem.  Conheça algumas das principais aplicações da renda fixa Mais    novamente         de   de  de  representando um  \"Quem já tem uma carteira de investimentos (* veja glossário abaixo), precisa zerar as aplicações em ativos mais arriscados para focar totalmente na aposentadoria\", diz Alírio. Segundo o especialista, as pessoas dessa faixa etária podem manter investimento em ações, desde que sejam de empresas já consolidadas, pagadoras de dividendos. Ainda assim, a porcentagem de dinheiro nesse tipo de ativo deve ser bem menor do que em títulos de renda fixa (*).  Além da renda fixa, os especialistas recomendam também aportar dinheiro em títulos de previdência privada. Mas como foi falado na quarta edição desta série, é preciso pesquisar entre os diversos produtos que existem hoje para tirar a melhor vantagem, ou seja, buscar títulos com os melhores rendimentos e taxas de manutenção e de resgate menores.  O especialista em previdência e seguros Danilo Carrillo, da Warren Investimentos, aconselha pesquisar também os produtos oferecidos por seguradoras independentes e por gestoras, que possuem opções com diferentes estratégias e voltados para diversos perfis de investidores (*).  Séries Folha: Como ter independência financeiraEstratégias para todas as idadesPlanejamento é a chave para a independência financeira, seja qual for a sua idadeTem 20 anos e acha que é cedo para pensar na independência financeira? Não é bem assimComo ter independência financeira começando aos 30 anosTem 40 anos e começou a pensar na aposentadoria só agora? Veja o que fazerTem 50 anos e nunca se planejou para a aposentadoria? Ainda dá para melhorar o futuroComo garantir a independência financeira dos filhos ou netosCARTEIRAS RECOMENDADAS  A Folha fez um levantamento com três corretoras sobre investimentos recomendados para aposentadoria na faixa dos 50 anos de idade. O perfil de investidor adotado foi o moderado.  Vale ressaltar que estas carteiras são apenas balizas, então é sempre importante consultar um especialista, que irá montar um planejamento que se encaixe exatamente no seu perfil e objetivos pessoais para o futuro.  PRÓS E CONTRAS DA FAIXA ETÁRIA  Vantagens: Maior patrimônio acumulado  Desvantagens: Menos tempo para poupar; valor a ser poupado deve ser maior; menos liberdade para se expor ao risco  GLOSSÁRIO  Carteira de investimentos: Conjunto de todas as aplicações financeiras de uma pessoa.  Renda fixa: São aplicações que possuem critérios pré-definidos de rendimento, ou seja, quais são as formas de correção do título investido e o limite de tempo para o dinheiro ficar investido.  Renda variável: São investimentos com menor previsibilidade e que, por isso, são considerados mais arriscados. Estão mais sujeitos às oscilações do mercado, como juros, câmbio e preços de commodities. Em compensação, justamente por serem mais arriscadas, são aplicações com expectativas de maiores rendimentos.  Perfis de investidor  - Conservador: Com baixa tolerância ao risco, busca ativos mais seguros para investir, com garantias maiores de retorno, mesmo que a rentabilidade seja menor.  - Moderado: Tem uma tolerância maior ao risco, portanto, possui mais ativos arriscados em sua carteira de investimentos, embora esse tipo de investidor ainda preze por segurança e garantias de retorno.  - Arrojado: É o investidor com a maior disposição de enfrentar o risco de uma aplicação, desde que ela potencialmente traga retornos maiores. Está disposto a perder dinheiro com as oscilações de mercado se for preciso para alcançar uma maior rentabilidade em contrapartida. ']"
      ]
     },
     "execution_count": 18,
     "metadata": {},
     "output_type": "execute_result"
    }
   ],
   "source": [
    "df_test[0]"
   ]
  },
  {
   "cell_type": "code",
   "execution_count": 19,
   "metadata": {},
   "outputs": [],
   "source": [
    "from torch import nn\n",
    "from torch.nn import functional as F\n",
    "\n",
    "class TextClassifier(nn.Module):\n",
    "    def __init__(self):\n",
    "        super(TextClassifier, self).__init__()\n",
    "        self.seq = nn.Sequential(\n",
    "            nn.Linear(len(vocab), 128),\n",
    "            nn.ReLU(),\n",
    "\n",
    "            nn.Linear(128, 64),\n",
    "            nn.ReLU(),\n",
    "\n",
    "            nn.Linear(64, len(categories)),\n",
    "            #nn.ReLU(),\n",
    "\n",
    "            #nn.Linear(64, 4),\n",
    "        )\n",
    "\n",
    "    def forward(self, X_batch):\n",
    "        return self.seq(X_batch)"
   ]
  },
  {
   "cell_type": "code",
   "execution_count": 20,
   "metadata": {},
   "outputs": [
    {
     "name": "stdout",
     "output_type": "stream",
     "text": [
      "torch.Size([256, 9])\n"
     ]
    }
   ],
   "source": [
    "text_classifier = TextClassifier().cuda()\n",
    "for X, Y in train_loader:\n",
    "    Y_preds = text_classifier(X)\n",
    "    print(Y_preds.shape)\n",
    "    break"
   ]
  },
  {
   "cell_type": "code",
   "execution_count": 21,
   "metadata": {},
   "outputs": [],
   "source": [
    "from tqdm import tqdm\n",
    "from sklearn.metrics import accuracy_score\n",
    "\n",
    "\n",
    "def CalcValLossAndAccuracy(model, loss_fn, val_loader):\n",
    "    with torch.no_grad():\n",
    "        Y_shuffled, Y_preds, losses = [],[],[]\n",
    "        for X, Y in val_loader:\n",
    "            preds = model(X)\n",
    "            loss = loss_fn(preds, Y)\n",
    "            losses.append(loss.item())\n",
    "\n",
    "            Y_shuffled.append(Y)\n",
    "            Y_preds.append(preds.argmax(dim=-1))\n",
    "\n",
    "        Y_shuffled = torch.cat(Y_shuffled)\n",
    "        Y_preds = torch.cat(Y_preds)\n",
    "\n",
    "        print(\"Valid Loss : {:.3f}\".format(torch.tensor(losses).cpu().mean()))\n",
    "        print(\"Valid Acc  : {:.3f}\".format(accuracy_score(Y_shuffled.cpu().detach().numpy(), Y_preds.cpu().detach().numpy())))\n",
    "\n",
    "\n",
    "def TrainModel(model, loss_fn, optimizer, train_loader, val_loader, epochs=10):\n",
    "    for i in range(1, epochs+1):\n",
    "        losses = []\n",
    "        for X, Y in tqdm(train_loader):\n",
    "            \n",
    "            Y_preds = model(X)\n",
    "\n",
    "            loss = loss_fn(Y_preds, Y)\n",
    "            losses.append(loss.item())\n",
    "\n",
    "            optimizer.zero_grad()\n",
    "            loss.backward()\n",
    "            optimizer.step()\n",
    "\n",
    "        print(\"Train Loss : {:.3f}\".format(torch.tensor(losses).mean()))\n",
    "        CalcValLossAndAccuracy(model, loss_fn, val_loader)"
   ]
  },
  {
   "cell_type": "code",
   "execution_count": 22,
   "metadata": {},
   "outputs": [
    {
     "name": "stderr",
     "output_type": "stream",
     "text": [
      "100%|██████████| 211/211 [01:05<00:00,  3.24it/s]\n"
     ]
    },
    {
     "name": "stdout",
     "output_type": "stream",
     "text": [
      "Train Loss : 0.762\n",
      "Valid Loss : 0.275\n",
      "Valid Acc  : 0.940\n"
     ]
    },
    {
     "name": "stderr",
     "output_type": "stream",
     "text": [
      "100%|██████████| 211/211 [01:05<00:00,  3.22it/s]\n"
     ]
    },
    {
     "name": "stdout",
     "output_type": "stream",
     "text": [
      "Train Loss : 0.201\n",
      "Valid Loss : 0.146\n",
      "Valid Acc  : 0.970\n"
     ]
    },
    {
     "name": "stderr",
     "output_type": "stream",
     "text": [
      "100%|██████████| 211/211 [01:07<00:00,  3.14it/s]\n"
     ]
    },
    {
     "name": "stdout",
     "output_type": "stream",
     "text": [
      "Train Loss : 0.121\n",
      "Valid Loss : 0.109\n",
      "Valid Acc  : 0.978\n"
     ]
    }
   ],
   "source": [
    "from torch.optim import Adam\n",
    "\n",
    "epochs = 3\n",
    "learning_rate = 1e-4\n",
    "\n",
    "loss_fn = nn.CrossEntropyLoss()\n",
    "text_classifier = TextClassifier().cuda()\n",
    "\n",
    "optimizer = Adam(text_classifier.parameters(), lr=learning_rate)\n",
    "\n",
    "TrainModel(text_classifier, loss_fn, optimizer, train_loader, test_loader, epochs)"
   ]
  },
  {
   "cell_type": "code",
   "execution_count": 23,
   "metadata": {},
   "outputs": [],
   "source": [
    "\n",
    "import gc\n",
    "def MakePredictions(model, loader):\n",
    "    Y_shuffled, Y_preds = [], []\n",
    "    for X, Y in loader:\n",
    "        preds = model(X)\n",
    "        Y_preds.append(preds)\n",
    "        Y_shuffled.append(Y)\n",
    "    gc.collect()\n",
    "    Y_preds, Y_shuffled = torch.cat(Y_preds).cpu(), torch.cat(Y_shuffled).cpu()\n",
    "\n",
    "    return Y_shuffled.detach().numpy(), F.softmax(Y_preds, dim=-1).argmax(dim=-1).detach().numpy()\n"
   ]
  },
  {
   "cell_type": "code",
   "execution_count": 24,
   "metadata": {},
   "outputs": [],
   "source": [
    "\n",
    "Y_actual, Y_preds = MakePredictions(text_classifier, test_loader)"
   ]
  },
  {
   "cell_type": "code",
   "execution_count": 25,
   "metadata": {},
   "outputs": [
    {
     "data": {
      "text/plain": [
       "array([7, 8, 6, 4, 1, 3, 5], dtype=int64)"
      ]
     },
     "execution_count": 25,
     "metadata": {},
     "output_type": "execute_result"
    }
   ],
   "source": [
    "pd.Series(Y_preds).unique()"
   ]
  },
  {
   "cell_type": "code",
   "execution_count": 26,
   "metadata": {},
   "outputs": [
    {
     "name": "stdout",
     "output_type": "stream",
     "text": [
      "Test Accuracy : 0.9779807692307693\n",
      "\n",
      "Classification Report : \n",
      "              precision    recall  f1-score   support\n",
      "\n",
      "celebridades       0.00      0.00      0.00         9\n",
      "     ciencia       0.96      0.95      0.96       265\n",
      "      cinema       0.00      0.00      0.00         3\n",
      "      comida       0.98      0.93      0.95        87\n",
      "    educacao       0.97      0.94      0.95       394\n",
      "    eleicoes       1.00      0.93      0.96        55\n",
      "     esporte       0.99      0.99      0.99      1561\n",
      "     mercado       0.98      0.98      0.98      4534\n",
      "       poder       0.97      0.98      0.98      3492\n",
      "\n",
      "    accuracy                           0.98     10400\n",
      "   macro avg       0.76      0.74      0.75     10400\n",
      "weighted avg       0.98      0.98      0.98     10400\n",
      "\n",
      "\n",
      "Confusion Matrix : \n",
      "[[   0    0    0    0    0    0    0    6    3]\n",
      " [   0  253    0    0    3    0    0    8    1]\n",
      " [   0    0    0    0    0    0    0    2    1]\n",
      " [   0    1    0   81    0    0    0    4    1]\n",
      " [   0    2    0    0  369    0    4    9   10]\n",
      " [   0    0    0    0    0   51    0    1    3]\n",
      " [   0    1    0    1    0    0 1540    9   10]\n",
      " [   0    4    0    0    3    0    6 4462   59]\n",
      " [   0    3    0    1    5    0   12   56 3415]]\n"
     ]
    },
    {
     "name": "stderr",
     "output_type": "stream",
     "text": [
      "d:\\Projetos\\Python\\Artigos\\venv\\Lib\\site-packages\\sklearn\\metrics\\_classification.py:1509: UndefinedMetricWarning: Precision is ill-defined and being set to 0.0 in labels with no predicted samples. Use `zero_division` parameter to control this behavior.\n",
      "  _warn_prf(average, modifier, f\"{metric.capitalize()} is\", len(result))\n",
      "d:\\Projetos\\Python\\Artigos\\venv\\Lib\\site-packages\\sklearn\\metrics\\_classification.py:1509: UndefinedMetricWarning: Precision is ill-defined and being set to 0.0 in labels with no predicted samples. Use `zero_division` parameter to control this behavior.\n",
      "  _warn_prf(average, modifier, f\"{metric.capitalize()} is\", len(result))\n",
      "d:\\Projetos\\Python\\Artigos\\venv\\Lib\\site-packages\\sklearn\\metrics\\_classification.py:1509: UndefinedMetricWarning: Precision is ill-defined and being set to 0.0 in labels with no predicted samples. Use `zero_division` parameter to control this behavior.\n",
      "  _warn_prf(average, modifier, f\"{metric.capitalize()} is\", len(result))\n"
     ]
    }
   ],
   "source": [
    "from sklearn.metrics import accuracy_score, classification_report, confusion_matrix\n",
    "\n",
    "print(\"Test Accuracy : {}\".format(accuracy_score(Y_actual, Y_preds)))\n",
    "print(\"\\nClassification Report : \")\n",
    "print(classification_report(Y_actual, Y_preds, target_names=categories))\n",
    "print(\"\\nConfusion Matrix : \")\n",
    "print(confusion_matrix(Y_actual, Y_preds))"
   ]
  },
  {
   "cell_type": "code",
   "execution_count": 27,
   "metadata": {},
   "outputs": [
    {
     "data": {
      "text/plain": [
       "(array([8], dtype=int64), array([8], dtype=int64))"
      ]
     },
     "execution_count": 27,
     "metadata": {},
     "output_type": "execute_result"
    }
   ],
   "source": [
    "MakePredictions(text_classifier, DataLoader([[8, 'O ministro Alexandre de Moraes, do STF (Supremo Tribunal Federal), ignorou parecer da PGR (Procuradoria-Geral da República) e mandou prender, nesta quinta-feira (29), empresários do Distrito Federal suspeitos de financiar os atos golpistas de 8 de janeiro.']], batch_size=256, collate_fn=vectorize_batch))"
   ]
  },
  {
   "cell_type": "code",
   "execution_count": 28,
   "metadata": {},
   "outputs": [],
   "source": [
    "torch.save(text_classifier, 'TextClassifierModel.pt')"
   ]
  },
  {
   "cell_type": "code",
   "execution_count": 29,
   "metadata": {},
   "outputs": [],
   "source": [
    "import torch\n",
    "model = torch.load('TextClassifierModel.pt')"
   ]
  },
  {
   "cell_type": "code",
   "execution_count": 30,
   "metadata": {},
   "outputs": [
    {
     "data": {
      "text/plain": [
       "(array([7], dtype=int64), array([7], dtype=int64))"
      ]
     },
     "execution_count": 30,
     "metadata": {},
     "output_type": "execute_result"
    }
   ],
   "source": [
    "from torch.utils.data import DataLoader\n",
    "\n",
    "MakePredictions(model, DataLoader([[7, 'O presidente Luiz Inácio Lula da Silva (PT), o ministro Fernando Haddad (Fazenda) e o vice-presidente Geraldo Alckmin disseram, nesta sexta-feira (1º), que o governo foi surpreendido positivamente com o crescimento da economia em 2023 após o resultado do PIB (Produto Interno Bruto) superar as expectativas do início do mandato.']], batch_size=256, collate_fn=vectorize_batch))"
   ]
  }
 ],
 "metadata": {
  "kernelspec": {
   "display_name": "venv",
   "language": "python",
   "name": "python3"
  },
  "language_info": {
   "codemirror_mode": {
    "name": "ipython",
    "version": 3
   },
   "file_extension": ".py",
   "mimetype": "text/x-python",
   "name": "python",
   "nbconvert_exporter": "python",
   "pygments_lexer": "ipython3",
   "version": "3.11.7"
  }
 },
 "nbformat": 4,
 "nbformat_minor": 2
}
